{
 "cells": [
  {
   "cell_type": "code",
   "execution_count": 1,
   "id": "14406300",
   "metadata": {},
   "outputs": [],
   "source": [
    "deliveries = read.csv('IPL Ball-by-Ball 2008-2020.csv')\n"
   ]
  },
  {
   "cell_type": "markdown",
   "id": "df746fe0",
   "metadata": {},
   "source": [
    "## Getting Prerequisite Libraries"
   ]
  },
  {
   "cell_type": "code",
   "execution_count": 2,
   "id": "b45b32ce",
   "metadata": {},
   "outputs": [
    {
     "name": "stderr",
     "output_type": "stream",
     "text": [
      "\n",
      "Attaching package: 'dplyr'\n",
      "\n",
      "The following objects are masked from 'package:stats':\n",
      "\n",
      "    filter, lag\n",
      "\n",
      "The following objects are masked from 'package:base':\n",
      "\n",
      "    intersect, setdiff, setequal, union\n",
      "\n",
      "Registered S3 methods overwritten by 'ggplot2':\n",
      "  method         from \n",
      "  [.quosures     rlang\n",
      "  c.quosures     rlang\n",
      "  print.quosures rlang\n"
     ]
    }
   ],
   "source": [
    "library(dplyr)\n",
    "library(ggplot2)"
   ]
  },
  {
   "cell_type": "code",
   "execution_count": 3,
   "id": "5ae887f3",
   "metadata": {},
   "outputs": [
    {
     "data": {
      "text/html": [
       "<table>\n",
       "<thead><tr><th scope=col>id</th><th scope=col>inning</th><th scope=col>over</th><th scope=col>ball</th><th scope=col>batsman</th><th scope=col>non_striker</th><th scope=col>bowler</th><th scope=col>batsman_runs</th><th scope=col>extra_runs</th><th scope=col>total_runs</th><th scope=col>non_boundary</th><th scope=col>is_wicket</th><th scope=col>dismissal_kind</th><th scope=col>player_dismissed</th><th scope=col>fielder</th><th scope=col>extras_type</th><th scope=col>batting_team</th><th scope=col>bowling_team</th></tr></thead>\n",
       "<tbody>\n",
       "\t<tr><td>335982                     </td><td>1                          </td><td>6                          </td><td>5                          </td><td>RT Ponting                 </td><td>BB McCullum                </td><td>AA Noffke                  </td><td>1                          </td><td>0                          </td><td>1                          </td><td>0                          </td><td>0                          </td><td>NA                         </td><td>NA                         </td><td>NA                         </td><td>NA                         </td><td>Kolkata Knight Riders      </td><td>Royal Challengers Bangalore</td></tr>\n",
       "\t<tr><td>335982                     </td><td>1                          </td><td>6                          </td><td>6                          </td><td>BB McCullum                </td><td>RT Ponting                 </td><td>AA Noffke                  </td><td>1                          </td><td>0                          </td><td>1                          </td><td>0                          </td><td>0                          </td><td>NA                         </td><td>NA                         </td><td>NA                         </td><td>NA                         </td><td>Kolkata Knight Riders      </td><td>Royal Challengers Bangalore</td></tr>\n",
       "\t<tr><td>335982                     </td><td>1                          </td><td>7                          </td><td>1                          </td><td>BB McCullum                </td><td>RT Ponting                 </td><td>Z Khan                     </td><td>0                          </td><td>0                          </td><td>0                          </td><td>0                          </td><td>0                          </td><td>NA                         </td><td>NA                         </td><td>NA                         </td><td>NA                         </td><td>Kolkata Knight Riders      </td><td>Royal Challengers Bangalore</td></tr>\n",
       "\t<tr><td>335982                     </td><td>1                          </td><td>7                          </td><td>2                          </td><td>BB McCullum                </td><td>RT Ponting                 </td><td>Z Khan                     </td><td>1                          </td><td>0                          </td><td>1                          </td><td>0                          </td><td>0                          </td><td>NA                         </td><td>NA                         </td><td>NA                         </td><td>NA                         </td><td>Kolkata Knight Riders      </td><td>Royal Challengers Bangalore</td></tr>\n",
       "\t<tr><td>335982                     </td><td>1                          </td><td>7                          </td><td>3                          </td><td>RT Ponting                 </td><td>BB McCullum                </td><td>Z Khan                     </td><td>1                          </td><td>0                          </td><td>1                          </td><td>0                          </td><td>0                          </td><td>NA                         </td><td>NA                         </td><td>NA                         </td><td>NA                         </td><td>Kolkata Knight Riders      </td><td>Royal Challengers Bangalore</td></tr>\n",
       "\t<tr><td>335982                     </td><td>1                          </td><td>7                          </td><td>4                          </td><td>BB McCullum                </td><td>RT Ponting                 </td><td>Z Khan                     </td><td>1                          </td><td>0                          </td><td>1                          </td><td>0                          </td><td>0                          </td><td>NA                         </td><td>NA                         </td><td>NA                         </td><td>NA                         </td><td>Kolkata Knight Riders      </td><td>Royal Challengers Bangalore</td></tr>\n",
       "</tbody>\n",
       "</table>\n"
      ],
      "text/latex": [
       "\\begin{tabular}{r|llllllllllllllllll}\n",
       " id & inning & over & ball & batsman & non\\_striker & bowler & batsman\\_runs & extra\\_runs & total\\_runs & non\\_boundary & is\\_wicket & dismissal\\_kind & player\\_dismissed & fielder & extras\\_type & batting\\_team & bowling\\_team\\\\\n",
       "\\hline\n",
       "\t 335982                      & 1                           & 6                           & 5                           & RT Ponting                  & BB McCullum                 & AA Noffke                   & 1                           & 0                           & 1                           & 0                           & 0                           & NA                          & NA                          & NA                          & NA                          & Kolkata Knight Riders       & Royal Challengers Bangalore\\\\\n",
       "\t 335982                      & 1                           & 6                           & 6                           & BB McCullum                 & RT Ponting                  & AA Noffke                   & 1                           & 0                           & 1                           & 0                           & 0                           & NA                          & NA                          & NA                          & NA                          & Kolkata Knight Riders       & Royal Challengers Bangalore\\\\\n",
       "\t 335982                      & 1                           & 7                           & 1                           & BB McCullum                 & RT Ponting                  & Z Khan                      & 0                           & 0                           & 0                           & 0                           & 0                           & NA                          & NA                          & NA                          & NA                          & Kolkata Knight Riders       & Royal Challengers Bangalore\\\\\n",
       "\t 335982                      & 1                           & 7                           & 2                           & BB McCullum                 & RT Ponting                  & Z Khan                      & 1                           & 0                           & 1                           & 0                           & 0                           & NA                          & NA                          & NA                          & NA                          & Kolkata Knight Riders       & Royal Challengers Bangalore\\\\\n",
       "\t 335982                      & 1                           & 7                           & 3                           & RT Ponting                  & BB McCullum                 & Z Khan                      & 1                           & 0                           & 1                           & 0                           & 0                           & NA                          & NA                          & NA                          & NA                          & Kolkata Knight Riders       & Royal Challengers Bangalore\\\\\n",
       "\t 335982                      & 1                           & 7                           & 4                           & BB McCullum                 & RT Ponting                  & Z Khan                      & 1                           & 0                           & 1                           & 0                           & 0                           & NA                          & NA                          & NA                          & NA                          & Kolkata Knight Riders       & Royal Challengers Bangalore\\\\\n",
       "\\end{tabular}\n"
      ],
      "text/markdown": [
       "\n",
       "| id | inning | over | ball | batsman | non_striker | bowler | batsman_runs | extra_runs | total_runs | non_boundary | is_wicket | dismissal_kind | player_dismissed | fielder | extras_type | batting_team | bowling_team |\n",
       "|---|---|---|---|---|---|---|---|---|---|---|---|---|---|---|---|---|---|\n",
       "| 335982                      | 1                           | 6                           | 5                           | RT Ponting                  | BB McCullum                 | AA Noffke                   | 1                           | 0                           | 1                           | 0                           | 0                           | NA                          | NA                          | NA                          | NA                          | Kolkata Knight Riders       | Royal Challengers Bangalore |\n",
       "| 335982                      | 1                           | 6                           | 6                           | BB McCullum                 | RT Ponting                  | AA Noffke                   | 1                           | 0                           | 1                           | 0                           | 0                           | NA                          | NA                          | NA                          | NA                          | Kolkata Knight Riders       | Royal Challengers Bangalore |\n",
       "| 335982                      | 1                           | 7                           | 1                           | BB McCullum                 | RT Ponting                  | Z Khan                      | 0                           | 0                           | 0                           | 0                           | 0                           | NA                          | NA                          | NA                          | NA                          | Kolkata Knight Riders       | Royal Challengers Bangalore |\n",
       "| 335982                      | 1                           | 7                           | 2                           | BB McCullum                 | RT Ponting                  | Z Khan                      | 1                           | 0                           | 1                           | 0                           | 0                           | NA                          | NA                          | NA                          | NA                          | Kolkata Knight Riders       | Royal Challengers Bangalore |\n",
       "| 335982                      | 1                           | 7                           | 3                           | RT Ponting                  | BB McCullum                 | Z Khan                      | 1                           | 0                           | 1                           | 0                           | 0                           | NA                          | NA                          | NA                          | NA                          | Kolkata Knight Riders       | Royal Challengers Bangalore |\n",
       "| 335982                      | 1                           | 7                           | 4                           | BB McCullum                 | RT Ponting                  | Z Khan                      | 1                           | 0                           | 1                           | 0                           | 0                           | NA                          | NA                          | NA                          | NA                          | Kolkata Knight Riders       | Royal Challengers Bangalore |\n",
       "\n"
      ],
      "text/plain": [
       "  id     inning over ball batsman     non_striker bowler    batsman_runs\n",
       "1 335982 1      6    5    RT Ponting  BB McCullum AA Noffke 1           \n",
       "2 335982 1      6    6    BB McCullum RT Ponting  AA Noffke 1           \n",
       "3 335982 1      7    1    BB McCullum RT Ponting  Z Khan    0           \n",
       "4 335982 1      7    2    BB McCullum RT Ponting  Z Khan    1           \n",
       "5 335982 1      7    3    RT Ponting  BB McCullum Z Khan    1           \n",
       "6 335982 1      7    4    BB McCullum RT Ponting  Z Khan    1           \n",
       "  extra_runs total_runs non_boundary is_wicket dismissal_kind player_dismissed\n",
       "1 0          1          0            0         NA             NA              \n",
       "2 0          1          0            0         NA             NA              \n",
       "3 0          0          0            0         NA             NA              \n",
       "4 0          1          0            0         NA             NA              \n",
       "5 0          1          0            0         NA             NA              \n",
       "6 0          1          0            0         NA             NA              \n",
       "  fielder extras_type batting_team          bowling_team               \n",
       "1 NA      NA          Kolkata Knight Riders Royal Challengers Bangalore\n",
       "2 NA      NA          Kolkata Knight Riders Royal Challengers Bangalore\n",
       "3 NA      NA          Kolkata Knight Riders Royal Challengers Bangalore\n",
       "4 NA      NA          Kolkata Knight Riders Royal Challengers Bangalore\n",
       "5 NA      NA          Kolkata Knight Riders Royal Challengers Bangalore\n",
       "6 NA      NA          Kolkata Knight Riders Royal Challengers Bangalore"
      ]
     },
     "metadata": {},
     "output_type": "display_data"
    }
   ],
   "source": [
    "head(deliveries)"
   ]
  },
  {
   "cell_type": "code",
   "execution_count": 4,
   "id": "2936513c",
   "metadata": {},
   "outputs": [
    {
     "data": {
      "text/plain": [
       "       id              inning           over             ball      \n",
       " Min.   : 335982   Min.   :1.000   Min.   : 0.000   Min.   :1.000  \n",
       " 1st Qu.: 501227   1st Qu.:1.000   1st Qu.: 4.000   1st Qu.:2.000  \n",
       " Median : 729297   Median :1.000   Median : 9.000   Median :4.000  \n",
       " Mean   : 756769   Mean   :1.482   Mean   : 9.177   Mean   :3.616  \n",
       " 3rd Qu.:1082628   3rd Qu.:2.000   3rd Qu.:14.000   3rd Qu.:5.000  \n",
       " Max.   :1237181   Max.   :2.000   Max.   :19.000   Max.   :9.000  \n",
       "                                                                   \n",
       "       batsman          non_striker                 bowler        batsman_runs \n",
       " V Kohli   :  4609   S Dhawan :  4593   Harbhajan Singh:  3451   Min.   :0.00  \n",
       " S Dhawan  :  4208   V Kohli  :  4459   R Ashwin       :  3327   1st Qu.:0.00  \n",
       " RG Sharma :  4088   SK Raina :  4173   PP Chawla      :  3285   Median :1.00  \n",
       " SK Raina  :  4041   RG Sharma:  4139   A Mishra       :  3233   Mean   :1.24  \n",
       " DA Warner :  3819   G Gambhir:  3740   SL Malinga     :  2974   3rd Qu.:1.00  \n",
       " RV Uthappa:  3658   AM Rahane:  3573   DJ Bravo       :  2846   Max.   :6.00  \n",
       " (Other)   :169045   (Other)  :168791   (Other)        :174352                 \n",
       "   extra_runs        total_runs     non_boundary        is_wicket      \n",
       " Min.   :0.00000   Min.   :0.000   Min.   :0.00e+00   Min.   :0.00000  \n",
       " 1st Qu.:0.00000   1st Qu.:0.000   1st Qu.:0.00e+00   1st Qu.:0.00000  \n",
       " Median :0.00000   Median :1.000   Median :0.00e+00   Median :0.00000  \n",
       " Mean   :0.06641   Mean   :1.307   Mean   :8.27e-05   Mean   :0.04908  \n",
       " 3rd Qu.:0.00000   3rd Qu.:1.000   3rd Qu.:0.00e+00   3rd Qu.:0.00000  \n",
       " Max.   :7.00000   Max.   :7.000   Max.   :1.00e+00   Max.   :1.00000  \n",
       "                                                                       \n",
       " dismissal_kind     player_dismissed            fielder        extras_type    \n",
       " caught :  5743   RG Sharma :   167   MS Dhoni      :   164   byes   :   508  \n",
       " bowled :  1700   RV Uthappa:   165   KD Karthik    :   156   legbyes:  3107  \n",
       " run out:   893   SK Raina  :   161   RV Uthappa    :   123   noballs:   758  \n",
       " lbw    :   571   V Kohli   :   154   AB de Villiers:   117   penalty:     2  \n",
       " stumped:   294   S Dhawan  :   152   SK Raina      :   105   wides  :  5858  \n",
       " (Other):   294   (Other)   :  8696   (Other)       :  6119   NA's   :183235  \n",
       " NA's   :183973   NA's      :183973   NA's          :186684                   \n",
       "                      batting_team                        bowling_team  \n",
       " Mumbai Indians             :24466   Mumbai Indians             :24453  \n",
       " Royal Challengers Bangalore:22706   Royal Challengers Bangalore:23024  \n",
       " Kings XI Punjab            :22622   Kolkata Knight Riders      :22583  \n",
       " Kolkata Knight Riders      :22554   Kings XI Punjab            :22457  \n",
       " Chennai Super Kings        :21455   Chennai Super Kings        :21224  \n",
       " Rajasthan Royals           :18954   (Other)                    :79536  \n",
       " (Other)                    :60711   NA's                       :  191  "
      ]
     },
     "metadata": {},
     "output_type": "display_data"
    }
   ],
   "source": [
    "summary(deliveries)"
   ]
  },
  {
   "cell_type": "markdown",
   "id": "bd6e54fb",
   "metadata": {},
   "source": [
    "## Most Runs Scored in IPL: "
   ]
  },
  {
   "cell_type": "code",
   "execution_count": 5,
   "id": "96eec870",
   "metadata": {},
   "outputs": [
    {
     "data": {
      "text/html": [
       "<table>\n",
       "<thead><tr><th scope=col>batsman</th><th scope=col>Runs</th></tr></thead>\n",
       "<tbody>\n",
       "\t<tr><td>V Kohli       </td><td>5878          </td></tr>\n",
       "\t<tr><td>SK Raina      </td><td>5368          </td></tr>\n",
       "\t<tr><td>DA Warner     </td><td>5254          </td></tr>\n",
       "\t<tr><td>RG Sharma     </td><td>5230          </td></tr>\n",
       "\t<tr><td>S Dhawan      </td><td>5197          </td></tr>\n",
       "\t<tr><td>AB de Villiers</td><td>4849          </td></tr>\n",
       "\t<tr><td>CH Gayle      </td><td>4772          </td></tr>\n",
       "\t<tr><td>MS Dhoni      </td><td>4632          </td></tr>\n",
       "\t<tr><td>RV Uthappa    </td><td>4607          </td></tr>\n",
       "\t<tr><td>G Gambhir     </td><td>4217          </td></tr>\n",
       "</tbody>\n",
       "</table>\n"
      ],
      "text/latex": [
       "\\begin{tabular}{r|ll}\n",
       " batsman & Runs\\\\\n",
       "\\hline\n",
       "\t V Kohli        & 5878          \\\\\n",
       "\t SK Raina       & 5368          \\\\\n",
       "\t DA Warner      & 5254          \\\\\n",
       "\t RG Sharma      & 5230          \\\\\n",
       "\t S Dhawan       & 5197          \\\\\n",
       "\t AB de Villiers & 4849          \\\\\n",
       "\t CH Gayle       & 4772          \\\\\n",
       "\t MS Dhoni       & 4632          \\\\\n",
       "\t RV Uthappa     & 4607          \\\\\n",
       "\t G Gambhir      & 4217          \\\\\n",
       "\\end{tabular}\n"
      ],
      "text/markdown": [
       "\n",
       "| batsman | Runs |\n",
       "|---|---|\n",
       "| V Kohli        | 5878           |\n",
       "| SK Raina       | 5368           |\n",
       "| DA Warner      | 5254           |\n",
       "| RG Sharma      | 5230           |\n",
       "| S Dhawan       | 5197           |\n",
       "| AB de Villiers | 4849           |\n",
       "| CH Gayle       | 4772           |\n",
       "| MS Dhoni       | 4632           |\n",
       "| RV Uthappa     | 4607           |\n",
       "| G Gambhir      | 4217           |\n",
       "\n"
      ],
      "text/plain": [
       "   batsman        Runs\n",
       "1  V Kohli        5878\n",
       "2  SK Raina       5368\n",
       "3  DA Warner      5254\n",
       "4  RG Sharma      5230\n",
       "5  S Dhawan       5197\n",
       "6  AB de Villiers 4849\n",
       "7  CH Gayle       4772\n",
       "8  MS Dhoni       4632\n",
       "9  RV Uthappa     4607\n",
       "10 G Gambhir      4217"
      ]
     },
     "metadata": {},
     "output_type": "display_data"
    }
   ],
   "source": [
    "max.runs = deliveries %>% group_by(batsman) %>% \n",
    "  summarise(Runs = sum(batsman_runs))\n",
    "\n",
    "max.runs = arrange(max.runs, desc(Runs))\n",
    "\n",
    "max.runs = max.runs[1:10, ]\n",
    "\n",
    "max.runs "
   ]
  },
  {
   "cell_type": "code",
   "execution_count": 65,
   "id": "0b424231",
   "metadata": {},
   "outputs": [
    {
     "data": {
      "image/png": "[encoded data removed]",
      "text/plain": [
       "plot without title"
      ]
     },
     "metadata": {},
     "output_type": "display_data"
    }
   ],
   "source": [
    "ggplot(max.runs, aes(reorder(batsman, -Runs), Runs)) + theme_classic()+\n",
    "  geom_bar(stat = 'identity', fill = 'darkslategray4', col = 'black')+\n",
    "  theme( axis.text.x = element_text(size = 8), legend.position = 'none')+ \n",
    "  geom_text(aes(label = Runs, vjust = -0.5))+\n",
    "  labs(title = 'Most Runs Scored in IPL', x = 'Batsman',\n",
    "      tag = 'B1')"
   ]
  },
  {
   "cell_type": "markdown",
   "id": "e310c133",
   "metadata": {},
   "source": [
    "## Most Sixes: "
   ]
  },
  {
   "cell_type": "code",
   "execution_count": 8,
   "id": "16807cd6",
   "metadata": {},
   "outputs": [
    {
     "data": {
      "text/html": [
       "<table>\n",
       "<thead><tr><th scope=col>batsman</th><th scope=col>Sixes</th></tr></thead>\n",
       "<tbody>\n",
       "\t<tr><td>CH Gayle      </td><td>349           </td></tr>\n",
       "\t<tr><td>AB de Villiers</td><td>235           </td></tr>\n",
       "\t<tr><td>MS Dhoni      </td><td>216           </td></tr>\n",
       "\t<tr><td>RG Sharma     </td><td>214           </td></tr>\n",
       "\t<tr><td>V Kohli       </td><td>202           </td></tr>\n",
       "\t<tr><td>KA Pollard    </td><td>198           </td></tr>\n",
       "\t<tr><td>DA Warner     </td><td>195           </td></tr>\n",
       "\t<tr><td>SK Raina      </td><td>194           </td></tr>\n",
       "\t<tr><td>SR Watson     </td><td>190           </td></tr>\n",
       "\t<tr><td>RV Uthappa    </td><td>163           </td></tr>\n",
       "</tbody>\n",
       "</table>\n"
      ],
      "text/latex": [
       "\\begin{tabular}{r|ll}\n",
       " batsman & Sixes\\\\\n",
       "\\hline\n",
       "\t CH Gayle       & 349           \\\\\n",
       "\t AB de Villiers & 235           \\\\\n",
       "\t MS Dhoni       & 216           \\\\\n",
       "\t RG Sharma      & 214           \\\\\n",
       "\t V Kohli        & 202           \\\\\n",
       "\t KA Pollard     & 198           \\\\\n",
       "\t DA Warner      & 195           \\\\\n",
       "\t SK Raina       & 194           \\\\\n",
       "\t SR Watson      & 190           \\\\\n",
       "\t RV Uthappa     & 163           \\\\\n",
       "\\end{tabular}\n"
      ],
      "text/markdown": [
       "\n",
       "| batsman | Sixes |\n",
       "|---|---|\n",
       "| CH Gayle       | 349            |\n",
       "| AB de Villiers | 235            |\n",
       "| MS Dhoni       | 216            |\n",
       "| RG Sharma      | 214            |\n",
       "| V Kohli        | 202            |\n",
       "| KA Pollard     | 198            |\n",
       "| DA Warner      | 195            |\n",
       "| SK Raina       | 194            |\n",
       "| SR Watson      | 190            |\n",
       "| RV Uthappa     | 163            |\n",
       "\n"
      ],
      "text/plain": [
       "   batsman        Sixes\n",
       "1  CH Gayle       349  \n",
       "2  AB de Villiers 235  \n",
       "3  MS Dhoni       216  \n",
       "4  RG Sharma      214  \n",
       "5  V Kohli        202  \n",
       "6  KA Pollard     198  \n",
       "7  DA Warner      195  \n",
       "8  SK Raina       194  \n",
       "9  SR Watson      190  \n",
       "10 RV Uthappa     163  "
      ]
     },
     "metadata": {},
     "output_type": "display_data"
    }
   ],
   "source": [
    "most.sixes = deliveries %>% group_by(batsman) %>% filter(batsman_runs == 6) %>% \n",
    "  summarise(Sixes = n()) %>% arrange(desc(Sixes))\n",
    "\n",
    "most.sixes = most.sixes[1:10, ]\n",
    "\n",
    "most.sixes\n"
   ]
  },
  {
   "cell_type": "code",
   "execution_count": 66,
   "id": "0b8b3f93",
   "metadata": {},
   "outputs": [
    {
     "data": {
      "image/png": "[encoded data removed]",
      "text/plain": [
       "plot without title"
      ]
     },
     "metadata": {},
     "output_type": "display_data"
    }
   ],
   "source": [
    "ggplot(most.sixes, aes(reorder(batsman, -Sixes), Sixes)) + theme_classic()+\n",
    "  geom_bar(stat = 'identity', fill = 'darkslategray4', col = 'black')+ \n",
    "  theme( axis.text.x = element_text(size = 8), legend.position = 'none')+\n",
    "  geom_text(aes(label = Sixes, vjust = -0.5))+\n",
    "  labs(title = 'Most Number of Sixes Hit by Batsmen', x = 'Batsman', tag = 'B2')"
   ]
  },
  {
   "cell_type": "markdown",
   "id": "c2552ad4",
   "metadata": {},
   "source": [
    "## Most Fours: "
   ]
  },
  {
   "cell_type": "code",
   "execution_count": 10,
   "id": "cea9748b",
   "metadata": {},
   "outputs": [
    {
     "data": {
      "text/html": [
       "<table>\n",
       "<thead><tr><th scope=col>batsman</th><th scope=col>Fours</th></tr></thead>\n",
       "<tbody>\n",
       "\t<tr><td>S Dhawan      </td><td>591           </td></tr>\n",
       "\t<tr><td>DA Warner     </td><td>510           </td></tr>\n",
       "\t<tr><td>V Kohli       </td><td>504           </td></tr>\n",
       "\t<tr><td>SK Raina      </td><td>493           </td></tr>\n",
       "\t<tr><td>G Gambhir     </td><td>492           </td></tr>\n",
       "\t<tr><td>RG Sharma     </td><td>458           </td></tr>\n",
       "\t<tr><td>RV Uthappa    </td><td>454           </td></tr>\n",
       "\t<tr><td>AM Rahane     </td><td>416           </td></tr>\n",
       "\t<tr><td>AB de Villiers</td><td>390           </td></tr>\n",
       "\t<tr><td>CH Gayle      </td><td>384           </td></tr>\n",
       "</tbody>\n",
       "</table>\n"
      ],
      "text/latex": [
       "\\begin{tabular}{r|ll}\n",
       " batsman & Fours\\\\\n",
       "\\hline\n",
       "\t S Dhawan       & 591           \\\\\n",
       "\t DA Warner      & 510           \\\\\n",
       "\t V Kohli        & 504           \\\\\n",
       "\t SK Raina       & 493           \\\\\n",
       "\t G Gambhir      & 492           \\\\\n",
       "\t RG Sharma      & 458           \\\\\n",
       "\t RV Uthappa     & 454           \\\\\n",
       "\t AM Rahane      & 416           \\\\\n",
       "\t AB de Villiers & 390           \\\\\n",
       "\t CH Gayle       & 384           \\\\\n",
       "\\end{tabular}\n"
      ],
      "text/markdown": [
       "\n",
       "| batsman | Fours |\n",
       "|---|---|\n",
       "| S Dhawan       | 591            |\n",
       "| DA Warner      | 510            |\n",
       "| V Kohli        | 504            |\n",
       "| SK Raina       | 493            |\n",
       "| G Gambhir      | 492            |\n",
       "| RG Sharma      | 458            |\n",
       "| RV Uthappa     | 454            |\n",
       "| AM Rahane      | 416            |\n",
       "| AB de Villiers | 390            |\n",
       "| CH Gayle       | 384            |\n",
       "\n"
      ],
      "text/plain": [
       "   batsman        Fours\n",
       "1  S Dhawan       591  \n",
       "2  DA Warner      510  \n",
       "3  V Kohli        504  \n",
       "4  SK Raina       493  \n",
       "5  G Gambhir      492  \n",
       "6  RG Sharma      458  \n",
       "7  RV Uthappa     454  \n",
       "8  AM Rahane      416  \n",
       "9  AB de Villiers 390  \n",
       "10 CH Gayle       384  "
      ]
     },
     "metadata": {},
     "output_type": "display_data"
    }
   ],
   "source": [
    "most.fours = deliveries %>% group_by(batsman) %>% filter(batsman_runs == 4) %>% \n",
    "  summarise(Fours = n()) %>% arrange(desc(Fours))\n",
    "\n",
    "most.fours.top10 = most.fours[1:10, ] \n",
    "\n",
    "most.fours.top10"
   ]
  },
  {
   "cell_type": "code",
   "execution_count": 64,
   "id": "1404811f",
   "metadata": {},
   "outputs": [
    {
     "data": {
      "image/png": "[encoded data removed]",
      "text/plain": [
       "plot without title"
      ]
     },
     "metadata": {},
     "output_type": "display_data"
    }
   ],
   "source": [
    "ggplot(most.fours.top10, aes(reorder(batsman, -Fours), Fours)) + theme_classic()+\n",
    "  geom_bar(stat = 'identity', fill = 'darkslategray4', col = 'black')+ \n",
    "  theme( axis.text.x = element_text(size = 8), legend.position = 'none')+\n",
    "  geom_text(aes(label = Fours, vjust = -0.5))+\n",
    "  labs(title = 'Most Number of Fours Hit by Batsmen', x = 'Batsman',\n",
    "      tag = 'B3')\n"
   ]
  },
  {
   "cell_type": "markdown",
   "id": "2d6064e4",
   "metadata": {},
   "source": [
    "## Max Strikerate (for minimum 2000 runs scored): "
   ]
  },
  {
   "cell_type": "code",
   "execution_count": 14,
   "id": "c3a66100",
   "metadata": {},
   "outputs": [
    {
     "data": {
      "text/html": [
       "<table>\n",
       "<thead><tr><th scope=col>batsman</th><th scope=col>Runs</th><th scope=col>Strike.rate</th></tr></thead>\n",
       "<tbody>\n",
       "\t<tr><td>V Sehwag      </td><td>2728          </td><td>148.83%       </td></tr>\n",
       "\t<tr><td>AB de Villiers</td><td>4849          </td><td>148.56%       </td></tr>\n",
       "\t<tr><td>RR Pant       </td><td>2079          </td><td>146.82%       </td></tr>\n",
       "\t<tr><td>KA Pollard    </td><td>3023          </td><td>143.47%       </td></tr>\n",
       "\t<tr><td>CH Gayle      </td><td>4772          </td><td>142.79%       </td></tr>\n",
       "\t<tr><td>DA Warner     </td><td>5254          </td><td>137.58%       </td></tr>\n",
       "\t<tr><td>YK Pathan     </td><td>3204          </td><td>137.51%       </td></tr>\n",
       "\t<tr><td>SR Watson     </td><td>3874          </td><td>134.14%       </td></tr>\n",
       "\t<tr><td>AC Gilchrist  </td><td>2069          </td><td>133.05%       </td></tr>\n",
       "\t<tr><td>KL Rahul      </td><td>2647          </td><td>133.02%       </td></tr>\n",
       "</tbody>\n",
       "</table>\n"
      ],
      "text/latex": [
       "\\begin{tabular}{r|lll}\n",
       " batsman & Runs & Strike.rate\\\\\n",
       "\\hline\n",
       "\t V Sehwag       & 2728           & 148.83\\%     \\\\\n",
       "\t AB de Villiers & 4849           & 148.56\\%     \\\\\n",
       "\t RR Pant        & 2079           & 146.82\\%     \\\\\n",
       "\t KA Pollard     & 3023           & 143.47\\%     \\\\\n",
       "\t CH Gayle       & 4772           & 142.79\\%     \\\\\n",
       "\t DA Warner      & 5254           & 137.58\\%     \\\\\n",
       "\t YK Pathan      & 3204           & 137.51\\%     \\\\\n",
       "\t SR Watson      & 3874           & 134.14\\%     \\\\\n",
       "\t AC Gilchrist   & 2069           & 133.05\\%     \\\\\n",
       "\t KL Rahul       & 2647           & 133.02\\%     \\\\\n",
       "\\end{tabular}\n"
      ],
      "text/markdown": [
       "\n",
       "| batsman | Runs | Strike.rate |\n",
       "|---|---|---|\n",
       "| V Sehwag       | 2728           | 148.83%        |\n",
       "| AB de Villiers | 4849           | 148.56%        |\n",
       "| RR Pant        | 2079           | 146.82%        |\n",
       "| KA Pollard     | 3023           | 143.47%        |\n",
       "| CH Gayle       | 4772           | 142.79%        |\n",
       "| DA Warner      | 5254           | 137.58%        |\n",
       "| YK Pathan      | 3204           | 137.51%        |\n",
       "| SR Watson      | 3874           | 134.14%        |\n",
       "| AC Gilchrist   | 2069           | 133.05%        |\n",
       "| KL Rahul       | 2647           | 133.02%        |\n",
       "\n"
      ],
      "text/plain": [
       "   batsman        Runs Strike.rate\n",
       "1  V Sehwag       2728 148.83%    \n",
       "2  AB de Villiers 4849 148.56%    \n",
       "3  RR Pant        2079 146.82%    \n",
       "4  KA Pollard     3023 143.47%    \n",
       "5  CH Gayle       4772 142.79%    \n",
       "6  DA Warner      5254 137.58%    \n",
       "7  YK Pathan      3204 137.51%    \n",
       "8  SR Watson      3874 134.14%    \n",
       "9  AC Gilchrist   2069 133.05%    \n",
       "10 KL Rahul       2647 133.02%    "
      ]
     },
     "metadata": {},
     "output_type": "display_data"
    }
   ],
   "source": [
    "max.strikerate = deliveries %>% group_by(batsman) %>% \n",
    "  summarise(Runs = sum(batsman_runs), Strike.rate = \n",
    "              round(sum( batsman_runs)/ n() * 100, digits = 2)) %>% \n",
    "  filter(Runs>= 2000) %>% arrange(desc(Strike.rate))\n",
    "\n",
    "max.strikerate = max.strikerate[1:10, ]\n",
    "\n",
    "max.strikerate$Strike.rate = paste0(max.strikerate$Strike.rate, '%')\n",
    "\n",
    "max.strikerate"
   ]
  },
  {
   "cell_type": "code",
   "execution_count": 15,
   "id": "45839a15",
   "metadata": {},
   "outputs": [],
   "source": [
    "options(warn = -1)"
   ]
  },
  {
   "cell_type": "code",
   "execution_count": 63,
   "id": "0469c1a1",
   "metadata": {},
   "outputs": [
    {
     "data": {
      "image/png": "[encoded data removed]",
      "text/plain": [
       "plot without title"
      ]
     },
     "metadata": {},
     "output_type": "display_data"
    }
   ],
   "source": [
    "ggplot(max.strikerate, aes(reorder(batsman, Strike.rate), Strike.rate)) + \n",
    "  theme_classic() + \n",
    "  geom_bar(stat = 'identity', fill = 'darkslategray4', col = 'black')+\n",
    "  geom_text(aes(label = Strike.rate, vjust = -0.5))+ \n",
    "  theme( axis.text.x = element_text(size = 7), legend.position = 'none')+\n",
    "  labs(title = 'Highest Strike Rate for min. 2000 Runs Scored', x = 'Batsman',\n",
    "       tag = 'B4')"
   ]
  },
  {
   "cell_type": "markdown",
   "id": "70322bed",
   "metadata": {},
   "source": [
    "## Highest Wicket Takers in IPL History"
   ]
  },
  {
   "cell_type": "code",
   "execution_count": 17,
   "id": "6890ab86",
   "metadata": {},
   "outputs": [
    {
     "data": {
      "text/html": [
       "<table>\n",
       "<thead><tr><th scope=col>bowler</th><th scope=col>wickets</th></tr></thead>\n",
       "<tbody>\n",
       "\t<tr><td>SL Malinga     </td><td>188            </td></tr>\n",
       "\t<tr><td>DJ Bravo       </td><td>175            </td></tr>\n",
       "\t<tr><td>A Mishra       </td><td>169            </td></tr>\n",
       "\t<tr><td>PP Chawla      </td><td>164            </td></tr>\n",
       "\t<tr><td>Harbhajan Singh</td><td>161            </td></tr>\n",
       "\t<tr><td>R Ashwin       </td><td>153            </td></tr>\n",
       "\t<tr><td>B Kumar        </td><td>146            </td></tr>\n",
       "\t<tr><td>SP Narine      </td><td>143            </td></tr>\n",
       "\t<tr><td>UT Yadav       </td><td>137            </td></tr>\n",
       "\t<tr><td>R Vinay Kumar  </td><td>127            </td></tr>\n",
       "</tbody>\n",
       "</table>\n"
      ],
      "text/latex": [
       "\\begin{tabular}{r|ll}\n",
       " bowler & wickets\\\\\n",
       "\\hline\n",
       "\t SL Malinga      & 188            \\\\\n",
       "\t DJ Bravo        & 175            \\\\\n",
       "\t A Mishra        & 169            \\\\\n",
       "\t PP Chawla       & 164            \\\\\n",
       "\t Harbhajan Singh & 161            \\\\\n",
       "\t R Ashwin        & 153            \\\\\n",
       "\t B Kumar         & 146            \\\\\n",
       "\t SP Narine       & 143            \\\\\n",
       "\t UT Yadav        & 137            \\\\\n",
       "\t R Vinay Kumar   & 127            \\\\\n",
       "\\end{tabular}\n"
      ],
      "text/markdown": [
       "\n",
       "| bowler | wickets |\n",
       "|---|---|\n",
       "| SL Malinga      | 188             |\n",
       "| DJ Bravo        | 175             |\n",
       "| A Mishra        | 169             |\n",
       "| PP Chawla       | 164             |\n",
       "| Harbhajan Singh | 161             |\n",
       "| R Ashwin        | 153             |\n",
       "| B Kumar         | 146             |\n",
       "| SP Narine       | 143             |\n",
       "| UT Yadav        | 137             |\n",
       "| R Vinay Kumar   | 127             |\n",
       "\n"
      ],
      "text/plain": [
       "   bowler          wickets\n",
       "1  SL Malinga      188    \n",
       "2  DJ Bravo        175    \n",
       "3  A Mishra        169    \n",
       "4  PP Chawla       164    \n",
       "5  Harbhajan Singh 161    \n",
       "6  R Ashwin        153    \n",
       "7  B Kumar         146    \n",
       "8  SP Narine       143    \n",
       "9  UT Yadav        137    \n",
       "10 R Vinay Kumar   127    "
      ]
     },
     "metadata": {},
     "output_type": "display_data"
    }
   ],
   "source": [
    "wks.most = deliveries %>% group_by(bowler) %>% filter(is_wicket == 1) %>% \n",
    "  summarise(wickets = n()) %>% arrange(desc(wickets))\n",
    "\n",
    "wks.most = wks.most[1:10, ]  \n",
    "\n",
    "wks.most"
   ]
  },
  {
   "cell_type": "code",
   "execution_count": 18,
   "id": "9b1bb61c",
   "metadata": {},
   "outputs": [
    {
     "data": {
      "image/png": "[encoded data removed]",
      "text/plain": [
       "plot without title"
      ]
     },
     "metadata": {},
     "output_type": "display_data"
    }
   ],
   "source": [
    "ggplot(wks.most, aes(reorder( bowler, -wickets), wickets)) + theme_classic()+\n",
    "  geom_bar(stat = 'identity', fill = 'darkslategray4', col = 'black')+\n",
    "  geom_text(aes(label = wickets, vjust = -0.5))+ \n",
    "  theme(legend.position = 'none')+\n",
    "  labs(title = 'Highest Wicket Taker in IPL History', x = 'Bowler',\n",
    "       y = 'Wickets', tag = 'B5')"
   ]
  },
  {
   "cell_type": "markdown",
   "id": "eaf17512",
   "metadata": {},
   "source": [
    "## Best Economy rate for bowlers who bowled min 125 overs(750 balls):"
   ]
  },
  {
   "cell_type": "code",
   "execution_count": 20,
   "id": "b3e19d99",
   "metadata": {},
   "outputs": [
    {
     "data": {
      "text/html": [
       "<table>\n",
       "<thead><tr><th scope=col>bowler</th><th scope=col>deliveries</th><th scope=col>Eco.rate</th></tr></thead>\n",
       "<tbody>\n",
       "\t<tr><td>Rashid Khan    </td><td>1490           </td><td>6.33           </td></tr>\n",
       "\t<tr><td>A Kumble       </td><td> 983           </td><td>6.65           </td></tr>\n",
       "\t<tr><td>M Muralitharan </td><td>1577           </td><td>6.68           </td></tr>\n",
       "\t<tr><td>DW Steyn       </td><td>2276           </td><td>6.77           </td></tr>\n",
       "\t<tr><td>R Ashwin       </td><td>3327           </td><td>6.77           </td></tr>\n",
       "\t<tr><td>SP Narine      </td><td>2824           </td><td>6.82           </td></tr>\n",
       "\t<tr><td>DL Vettori     </td><td> 785           </td><td>6.83           </td></tr>\n",
       "\t<tr><td>Harbhajan Singh</td><td>3451           </td><td>7.02           </td></tr>\n",
       "\t<tr><td>SL Malinga     </td><td>2974           </td><td>7.03           </td></tr>\n",
       "\t<tr><td>JC Archer      </td><td> 858           </td><td>7.05           </td></tr>\n",
       "</tbody>\n",
       "</table>\n"
      ],
      "text/latex": [
       "\\begin{tabular}{r|lll}\n",
       " bowler & deliveries & Eco.rate\\\\\n",
       "\\hline\n",
       "\t Rashid Khan     & 1490            & 6.33           \\\\\n",
       "\t A Kumble        &  983            & 6.65           \\\\\n",
       "\t M Muralitharan  & 1577            & 6.68           \\\\\n",
       "\t DW Steyn        & 2276            & 6.77           \\\\\n",
       "\t R Ashwin        & 3327            & 6.77           \\\\\n",
       "\t SP Narine       & 2824            & 6.82           \\\\\n",
       "\t DL Vettori      &  785            & 6.83           \\\\\n",
       "\t Harbhajan Singh & 3451            & 7.02           \\\\\n",
       "\t SL Malinga      & 2974            & 7.03           \\\\\n",
       "\t JC Archer       &  858            & 7.05           \\\\\n",
       "\\end{tabular}\n"
      ],
      "text/markdown": [
       "\n",
       "| bowler | deliveries | Eco.rate |\n",
       "|---|---|---|\n",
       "| Rashid Khan     | 1490            | 6.33            |\n",
       "| A Kumble        |  983            | 6.65            |\n",
       "| M Muralitharan  | 1577            | 6.68            |\n",
       "| DW Steyn        | 2276            | 6.77            |\n",
       "| R Ashwin        | 3327            | 6.77            |\n",
       "| SP Narine       | 2824            | 6.82            |\n",
       "| DL Vettori      |  785            | 6.83            |\n",
       "| Harbhajan Singh | 3451            | 7.02            |\n",
       "| SL Malinga      | 2974            | 7.03            |\n",
       "| JC Archer       |  858            | 7.05            |\n",
       "\n"
      ],
      "text/plain": [
       "   bowler          deliveries Eco.rate\n",
       "1  Rashid Khan     1490       6.33    \n",
       "2  A Kumble         983       6.65    \n",
       "3  M Muralitharan  1577       6.68    \n",
       "4  DW Steyn        2276       6.77    \n",
       "5  R Ashwin        3327       6.77    \n",
       "6  SP Narine       2824       6.82    \n",
       "7  DL Vettori       785       6.83    \n",
       "8  Harbhajan Singh 3451       7.02    \n",
       "9  SL Malinga      2974       7.03    \n",
       "10 JC Archer        858       7.05    "
      ]
     },
     "metadata": {},
     "output_type": "display_data"
    }
   ],
   "source": [
    "best.eco = deliveries %>% group_by(bowler) %>% \n",
    "  summarise(deliveries = n(), Eco.rate= round((sum(total_runs)/ n())*6, \n",
    "                                              digits = 2)) %>%\n",
    "  filter(deliveries >= 750) %>% arrange(Eco.rate)\n",
    "\n",
    "best.eco = best.eco[1:10, ]\n",
    "\n",
    "best.eco  "
   ]
  },
  {
   "cell_type": "code",
   "execution_count": 62,
   "id": "59e84404",
   "metadata": {},
   "outputs": [
    {
     "data": {
      "image/png": "[encoded data removed]",
      "text/plain": [
       "plot without title"
      ]
     },
     "metadata": {},
     "output_type": "display_data"
    }
   ],
   "source": [
    "ggplot(best.eco, aes(reorder(bowler, Eco.rate), Eco.rate)) + theme_classic()+ \n",
    "  geom_bar(stat = 'identity', fill = 'darkslategray4', col = 'black')+ \n",
    "  theme( axis.text.x = element_text(size = 7), legend.position = 'none')+\n",
    "  geom_text(aes(label = Eco.rate, vjust = -0.5))+\n",
    "  labs(title = 'Lowest Economy Rate who Bowled Min. 125 Overs', x = 'Batsman',\n",
    "       tag = 'B6', y = 'Economy Rate')"
   ]
  },
  {
   "cell_type": "markdown",
   "id": "9f0e7973",
   "metadata": {},
   "source": [
    "## Most Runs Scores in Powerplay Overs(1-6): "
   ]
  },
  {
   "cell_type": "code",
   "execution_count": 22,
   "id": "49b5e5f9",
   "metadata": {},
   "outputs": [
    {
     "data": {
      "text/html": [
       "<table>\n",
       "<thead><tr><th scope=col>batsman</th><th scope=col>Runs</th></tr></thead>\n",
       "<tbody>\n",
       "\t<tr><td>S Dhawan   </td><td>2783       </td></tr>\n",
       "\t<tr><td>DA Warner  </td><td>2738       </td></tr>\n",
       "\t<tr><td>CH Gayle   </td><td>2467       </td></tr>\n",
       "\t<tr><td>G Gambhir  </td><td>2457       </td></tr>\n",
       "\t<tr><td>PA Patel   </td><td>2049       </td></tr>\n",
       "\t<tr><td>AM Rahane  </td><td>2046       </td></tr>\n",
       "\t<tr><td>RV Uthappa </td><td>1961       </td></tr>\n",
       "\t<tr><td>V Kohli    </td><td>1795       </td></tr>\n",
       "\t<tr><td>V Sehwag   </td><td>1711       </td></tr>\n",
       "\t<tr><td>BB McCullum</td><td>1688       </td></tr>\n",
       "</tbody>\n",
       "</table>\n"
      ],
      "text/latex": [
       "\\begin{tabular}{r|ll}\n",
       " batsman & Runs\\\\\n",
       "\\hline\n",
       "\t S Dhawan    & 2783       \\\\\n",
       "\t DA Warner   & 2738       \\\\\n",
       "\t CH Gayle    & 2467       \\\\\n",
       "\t G Gambhir   & 2457       \\\\\n",
       "\t PA Patel    & 2049       \\\\\n",
       "\t AM Rahane   & 2046       \\\\\n",
       "\t RV Uthappa  & 1961       \\\\\n",
       "\t V Kohli     & 1795       \\\\\n",
       "\t V Sehwag    & 1711       \\\\\n",
       "\t BB McCullum & 1688       \\\\\n",
       "\\end{tabular}\n"
      ],
      "text/markdown": [
       "\n",
       "| batsman | Runs |\n",
       "|---|---|\n",
       "| S Dhawan    | 2783        |\n",
       "| DA Warner   | 2738        |\n",
       "| CH Gayle    | 2467        |\n",
       "| G Gambhir   | 2457        |\n",
       "| PA Patel    | 2049        |\n",
       "| AM Rahane   | 2046        |\n",
       "| RV Uthappa  | 1961        |\n",
       "| V Kohli     | 1795        |\n",
       "| V Sehwag    | 1711        |\n",
       "| BB McCullum | 1688        |\n",
       "\n"
      ],
      "text/plain": [
       "   batsman     Runs\n",
       "1  S Dhawan    2783\n",
       "2  DA Warner   2738\n",
       "3  CH Gayle    2467\n",
       "4  G Gambhir   2457\n",
       "5  PA Patel    2049\n",
       "6  AM Rahane   2046\n",
       "7  RV Uthappa  1961\n",
       "8  V Kohli     1795\n",
       "9  V Sehwag    1711\n",
       "10 BB McCullum 1688"
      ]
     },
     "metadata": {},
     "output_type": "display_data"
    }
   ],
   "source": [
    "bat.pp.runs= deliveries %>% group_by(batsman) %>% \n",
    "  filter(over >= 0 & over <= 5) %>% \n",
    "  summarise(Runs = sum(total_runs)) %>% arrange(desc(Runs))\n",
    "\n",
    "bat.pp.runs = bat.pp.runs[1:10, ]\n",
    "\n",
    "bat.pp.runs"
   ]
  },
  {
   "cell_type": "code",
   "execution_count": 24,
   "id": "b2e0bb66",
   "metadata": {},
   "outputs": [
    {
     "data": {
      "image/png": "[encoded data removed]",
      "text/plain": [
       "plot without title"
      ]
     },
     "metadata": {},
     "output_type": "display_data"
    }
   ],
   "source": [
    "ggplot(bat.pp.runs, aes(reorder(batsman, -Runs), Runs)) + theme_classic()+\n",
    "  geom_bar(stat = 'identity', fill = 'darkslategray4', col = 'black')+\n",
    "  geom_text(aes(label = Runs, vjust = -0.5))+\n",
    "  labs(title = 'Most Runs Scored by Batsmen in Powerplay Overs(1-6)',\n",
    "       x = 'Batsman', tag = 'B7')"
   ]
  },
  {
   "cell_type": "markdown",
   "id": "3d26807b",
   "metadata": {},
   "source": [
    "## Most Runs Scored in Death Overs(16-20):"
   ]
  },
  {
   "cell_type": "code",
   "execution_count": 25,
   "id": "cdf4ea5d",
   "metadata": {},
   "outputs": [
    {
     "data": {
      "text/html": [
       "<table>\n",
       "<thead><tr><th scope=col>batsman</th><th scope=col>Runs</th></tr></thead>\n",
       "<tbody>\n",
       "\t<tr><td>MS Dhoni      </td><td>2906          </td></tr>\n",
       "\t<tr><td>KA Pollard    </td><td>1882          </td></tr>\n",
       "\t<tr><td>AB de Villiers</td><td>1726          </td></tr>\n",
       "\t<tr><td>RG Sharma     </td><td>1524          </td></tr>\n",
       "\t<tr><td>V Kohli       </td><td>1318          </td></tr>\n",
       "\t<tr><td>KD Karthik    </td><td>1218          </td></tr>\n",
       "\t<tr><td>YK Pathan     </td><td>1181          </td></tr>\n",
       "\t<tr><td>RA Jadeja     </td><td>1172          </td></tr>\n",
       "\t<tr><td>HH Pandya     </td><td>1011          </td></tr>\n",
       "\t<tr><td>AT Rayudu     </td><td> 972          </td></tr>\n",
       "\t<tr><td>Yuvraj Singh  </td><td> 961          </td></tr>\n",
       "</tbody>\n",
       "</table>\n"
      ],
      "text/latex": [
       "\\begin{tabular}{r|ll}\n",
       " batsman & Runs\\\\\n",
       "\\hline\n",
       "\t MS Dhoni       & 2906          \\\\\n",
       "\t KA Pollard     & 1882          \\\\\n",
       "\t AB de Villiers & 1726          \\\\\n",
       "\t RG Sharma      & 1524          \\\\\n",
       "\t V Kohli        & 1318          \\\\\n",
       "\t KD Karthik     & 1218          \\\\\n",
       "\t YK Pathan      & 1181          \\\\\n",
       "\t RA Jadeja      & 1172          \\\\\n",
       "\t HH Pandya      & 1011          \\\\\n",
       "\t AT Rayudu      &  972          \\\\\n",
       "\t Yuvraj Singh   &  961          \\\\\n",
       "\\end{tabular}\n"
      ],
      "text/markdown": [
       "\n",
       "| batsman | Runs |\n",
       "|---|---|\n",
       "| MS Dhoni       | 2906           |\n",
       "| KA Pollard     | 1882           |\n",
       "| AB de Villiers | 1726           |\n",
       "| RG Sharma      | 1524           |\n",
       "| V Kohli        | 1318           |\n",
       "| KD Karthik     | 1218           |\n",
       "| YK Pathan      | 1181           |\n",
       "| RA Jadeja      | 1172           |\n",
       "| HH Pandya      | 1011           |\n",
       "| AT Rayudu      |  972           |\n",
       "| Yuvraj Singh   |  961           |\n",
       "\n"
      ],
      "text/plain": [
       "   batsman        Runs\n",
       "1  MS Dhoni       2906\n",
       "2  KA Pollard     1882\n",
       "3  AB de Villiers 1726\n",
       "4  RG Sharma      1524\n",
       "5  V Kohli        1318\n",
       "6  KD Karthik     1218\n",
       "7  YK Pathan      1181\n",
       "8  RA Jadeja      1172\n",
       "9  HH Pandya      1011\n",
       "10 AT Rayudu       972\n",
       "11 Yuvraj Singh    961"
      ]
     },
     "metadata": {},
     "output_type": "display_data"
    }
   ],
   "source": [
    "bat.do = deliveries %>% group_by(batsman) %>% \n",
    "  filter(over >= 15 & over <=19) %>% \n",
    "  summarise(Runs = sum(total_runs)) %>% arrange(desc(Runs))\n",
    "\n",
    "bat.do = bat.do[1:11, ]\n",
    "\n",
    "bat.do"
   ]
  },
  {
   "cell_type": "code",
   "execution_count": 59,
   "id": "26782569",
   "metadata": {},
   "outputs": [
    {
     "data": {
      "image/png": "[encoded data removed]",
      "text/plain": [
       "plot without title"
      ]
     },
     "metadata": {},
     "output_type": "display_data"
    }
   ],
   "source": [
    "ggplot(bat.do, aes(reorder(batsman, -Runs), Runs))+ theme_classic()+\n",
    "  geom_bar(stat = 'identity', fill = 'darkslategray4', col = 'black')+\n",
    "  geom_text(aes(label = Runs, vjust = -0.5))+\n",
    "  theme( axis.text.x = element_text(size = 7), legend.position = 'none')+\n",
    "  labs(title = 'Most Runs Scored by Batsmen in Death Overs(16-20)',\n",
    "       x = 'Batsman', tag = 'B8')"
   ]
  },
  {
   "cell_type": "markdown",
   "id": "55726f54",
   "metadata": {},
   "source": [
    "## Most Wickets Taken in Powerplay Overs(1-6):"
   ]
  },
  {
   "cell_type": "code",
   "execution_count": 27,
   "id": "d715a559",
   "metadata": {},
   "outputs": [
    {
     "data": {
      "text/html": [
       "<table>\n",
       "<thead><tr><th scope=col>bowler</th><th scope=col>Wickets</th></tr></thead>\n",
       "<tbody>\n",
       "\t<tr><td>Z Khan        </td><td>58            </td></tr>\n",
       "\t<tr><td>Sandeep Sharma</td><td>54            </td></tr>\n",
       "\t<tr><td>B Kumar       </td><td>53            </td></tr>\n",
       "\t<tr><td>UT Yadav      </td><td>47            </td></tr>\n",
       "\t<tr><td>DS Kulkarni   </td><td>46            </td></tr>\n",
       "\t<tr><td>A Nehra       </td><td>45            </td></tr>\n",
       "\t<tr><td>R Ashwin      </td><td>45            </td></tr>\n",
       "\t<tr><td>I Sharma      </td><td>44            </td></tr>\n",
       "\t<tr><td>P Kumar       </td><td>44            </td></tr>\n",
       "\t<tr><td>SL Malinga    </td><td>40            </td></tr>\n",
       "</tbody>\n",
       "</table>\n"
      ],
      "text/latex": [
       "\\begin{tabular}{r|ll}\n",
       " bowler & Wickets\\\\\n",
       "\\hline\n",
       "\t Z Khan         & 58            \\\\\n",
       "\t Sandeep Sharma & 54            \\\\\n",
       "\t B Kumar        & 53            \\\\\n",
       "\t UT Yadav       & 47            \\\\\n",
       "\t DS Kulkarni    & 46            \\\\\n",
       "\t A Nehra        & 45            \\\\\n",
       "\t R Ashwin       & 45            \\\\\n",
       "\t I Sharma       & 44            \\\\\n",
       "\t P Kumar        & 44            \\\\\n",
       "\t SL Malinga     & 40            \\\\\n",
       "\\end{tabular}\n"
      ],
      "text/markdown": [
       "\n",
       "| bowler | Wickets |\n",
       "|---|---|\n",
       "| Z Khan         | 58             |\n",
       "| Sandeep Sharma | 54             |\n",
       "| B Kumar        | 53             |\n",
       "| UT Yadav       | 47             |\n",
       "| DS Kulkarni    | 46             |\n",
       "| A Nehra        | 45             |\n",
       "| R Ashwin       | 45             |\n",
       "| I Sharma       | 44             |\n",
       "| P Kumar        | 44             |\n",
       "| SL Malinga     | 40             |\n",
       "\n"
      ],
      "text/plain": [
       "   bowler         Wickets\n",
       "1  Z Khan         58     \n",
       "2  Sandeep Sharma 54     \n",
       "3  B Kumar        53     \n",
       "4  UT Yadav       47     \n",
       "5  DS Kulkarni    46     \n",
       "6  A Nehra        45     \n",
       "7  R Ashwin       45     \n",
       "8  I Sharma       44     \n",
       "9  P Kumar        44     \n",
       "10 SL Malinga     40     "
      ]
     },
     "metadata": {},
     "output_type": "display_data"
    }
   ],
   "source": [
    "ball.pp.wks = deliveries %>% group_by(bowler) %>% \n",
    "  filter(over >= 0 & over <=5) %>% filter(is_wicket == 1) %>% \n",
    "  summarise(Wickets =n()) %>% arrange(desc(Wickets))\n",
    "\n",
    "ball.pp.wks = ball.pp.wks[1:10, ]\n",
    "\n",
    "ball.pp.wks"
   ]
  },
  {
   "cell_type": "code",
   "execution_count": 57,
   "id": "b4717356",
   "metadata": {},
   "outputs": [
    {
     "data": {
      "image/png": "[encoded data removed]",
      "text/plain": [
       "plot without title"
      ]
     },
     "metadata": {},
     "output_type": "display_data"
    }
   ],
   "source": [
    "ggplot(ball.pp.wks, aes(reorder(bowler,-Wickets), Wickets))+ theme_classic()+\n",
    "  geom_bar(stat = 'identity', fill = 'darkslategray4', col = 'black')+\n",
    "  geom_text(aes(label = Wickets, vjust = -0.5))+ \n",
    "  theme( axis.text.x = element_text(size = 7), legend.position = 'none')+\n",
    "  labs(title = 'Most Wickets Taken in Powerplay Overs(1-6)',\n",
    "       x ='Bowlers', tag = 'B9')"
   ]
  },
  {
   "cell_type": "markdown",
   "id": "49dab518",
   "metadata": {},
   "source": [
    "## Most Wickets Taken in Death Overs(16-20):"
   ]
  },
  {
   "cell_type": "code",
   "execution_count": 29,
   "id": "2e49c9fc",
   "metadata": {},
   "outputs": [
    {
     "data": {
      "text/html": [
       "<table>\n",
       "<thead><tr><th scope=col>bowler</th><th scope=col>Wickets</th></tr></thead>\n",
       "<tbody>\n",
       "\t<tr><td>SL Malinga   </td><td>122          </td></tr>\n",
       "\t<tr><td>DJ Bravo     </td><td>108          </td></tr>\n",
       "\t<tr><td>B Kumar      </td><td> 83          </td></tr>\n",
       "\t<tr><td>JJ Bumrah    </td><td> 69          </td></tr>\n",
       "\t<tr><td>SP Narine    </td><td> 68          </td></tr>\n",
       "\t<tr><td>A Nehra      </td><td> 63          </td></tr>\n",
       "\t<tr><td>R Vinay Kumar</td><td> 62          </td></tr>\n",
       "\t<tr><td>UT Yadav     </td><td> 62          </td></tr>\n",
       "\t<tr><td>DW Steyn     </td><td> 55          </td></tr>\n",
       "\t<tr><td>RP Singh     </td><td> 55          </td></tr>\n",
       "</tbody>\n",
       "</table>\n"
      ],
      "text/latex": [
       "\\begin{tabular}{r|ll}\n",
       " bowler & Wickets\\\\\n",
       "\\hline\n",
       "\t SL Malinga    & 122          \\\\\n",
       "\t DJ Bravo      & 108          \\\\\n",
       "\t B Kumar       &  83          \\\\\n",
       "\t JJ Bumrah     &  69          \\\\\n",
       "\t SP Narine     &  68          \\\\\n",
       "\t A Nehra       &  63          \\\\\n",
       "\t R Vinay Kumar &  62          \\\\\n",
       "\t UT Yadav      &  62          \\\\\n",
       "\t DW Steyn      &  55          \\\\\n",
       "\t RP Singh      &  55          \\\\\n",
       "\\end{tabular}\n"
      ],
      "text/markdown": [
       "\n",
       "| bowler | Wickets |\n",
       "|---|---|\n",
       "| SL Malinga    | 122           |\n",
       "| DJ Bravo      | 108           |\n",
       "| B Kumar       |  83           |\n",
       "| JJ Bumrah     |  69           |\n",
       "| SP Narine     |  68           |\n",
       "| A Nehra       |  63           |\n",
       "| R Vinay Kumar |  62           |\n",
       "| UT Yadav      |  62           |\n",
       "| DW Steyn      |  55           |\n",
       "| RP Singh      |  55           |\n",
       "\n"
      ],
      "text/plain": [
       "   bowler        Wickets\n",
       "1  SL Malinga    122    \n",
       "2  DJ Bravo      108    \n",
       "3  B Kumar        83    \n",
       "4  JJ Bumrah      69    \n",
       "5  SP Narine      68    \n",
       "6  A Nehra        63    \n",
       "7  R Vinay Kumar  62    \n",
       "8  UT Yadav       62    \n",
       "9  DW Steyn       55    \n",
       "10 RP Singh       55    "
      ]
     },
     "metadata": {},
     "output_type": "display_data"
    }
   ],
   "source": [
    "ball.do.wks = deliveries %>% group_by(bowler) %>% \n",
    "  filter(over >= 15 & over <=19) %>% filter(is_wicket == 1) %>% \n",
    "  summarise(Wickets =n()) %>% arrange(desc(Wickets))\n",
    "\n",
    "ball.do.wks = ball.do.wks[1:10, ]\n",
    "\n",
    "ball.do.wks"
   ]
  },
  {
   "cell_type": "code",
   "execution_count": 53,
   "id": "3938b79f",
   "metadata": {},
   "outputs": [
    {
     "data": {
      "image/png": "[encoded data removed]",
      "text/plain": [
       "plot without title"
      ]
     },
     "metadata": {},
     "output_type": "display_data"
    }
   ],
   "source": [
    "ggplot(ball.do.wks, aes(reorder(bowler,-Wickets), Wickets)) + theme_classic()+\n",
    "  geom_bar( stat = 'identity', fill = 'darkslategray4', col = 'black')+\n",
    "  geom_text( aes( label = Wickets, vjust = -0.5))+ \n",
    "  theme( axis.text.x = element_text(size = 8), legend.position = 'none')+\n",
    "  labs(title = 'Most Wickets Taken in Death Overs(16-20)',\n",
    "       x ='Bowlers', tag = 'B9')"
   ]
  },
  {
   "cell_type": "markdown",
   "id": "7d076625",
   "metadata": {},
   "source": [
    "## Most Wickets Taken in Middle Overs(7-15):"
   ]
  },
  {
   "cell_type": "code",
   "execution_count": 31,
   "id": "489278a9",
   "metadata": {},
   "outputs": [
    {
     "data": {
      "text/html": [
       "<table>\n",
       "<thead><tr><th scope=col>bowler</th><th scope=col>Wickets</th></tr></thead>\n",
       "<tbody>\n",
       "\t<tr><td>A Mishra       </td><td>122            </td></tr>\n",
       "\t<tr><td>PP Chawla      </td><td>107            </td></tr>\n",
       "\t<tr><td>Harbhajan Singh</td><td>101            </td></tr>\n",
       "\t<tr><td>RA Jadeja      </td><td> 86            </td></tr>\n",
       "\t<tr><td>YS Chahal      </td><td> 82            </td></tr>\n",
       "\t<tr><td>R Ashwin       </td><td> 76            </td></tr>\n",
       "\t<tr><td>PP Ojha        </td><td> 66            </td></tr>\n",
       "\t<tr><td>R Bhatia       </td><td> 61            </td></tr>\n",
       "\t<tr><td>AR Patel       </td><td> 59            </td></tr>\n",
       "\t<tr><td>Rashid Khan    </td><td> 59            </td></tr>\n",
       "</tbody>\n",
       "</table>\n"
      ],
      "text/latex": [
       "\\begin{tabular}{r|ll}\n",
       " bowler & Wickets\\\\\n",
       "\\hline\n",
       "\t A Mishra        & 122            \\\\\n",
       "\t PP Chawla       & 107            \\\\\n",
       "\t Harbhajan Singh & 101            \\\\\n",
       "\t RA Jadeja       &  86            \\\\\n",
       "\t YS Chahal       &  82            \\\\\n",
       "\t R Ashwin        &  76            \\\\\n",
       "\t PP Ojha         &  66            \\\\\n",
       "\t R Bhatia        &  61            \\\\\n",
       "\t AR Patel        &  59            \\\\\n",
       "\t Rashid Khan     &  59            \\\\\n",
       "\\end{tabular}\n"
      ],
      "text/markdown": [
       "\n",
       "| bowler | Wickets |\n",
       "|---|---|\n",
       "| A Mishra        | 122             |\n",
       "| PP Chawla       | 107             |\n",
       "| Harbhajan Singh | 101             |\n",
       "| RA Jadeja       |  86             |\n",
       "| YS Chahal       |  82             |\n",
       "| R Ashwin        |  76             |\n",
       "| PP Ojha         |  66             |\n",
       "| R Bhatia        |  61             |\n",
       "| AR Patel        |  59             |\n",
       "| Rashid Khan     |  59             |\n",
       "\n"
      ],
      "text/plain": [
       "   bowler          Wickets\n",
       "1  A Mishra        122    \n",
       "2  PP Chawla       107    \n",
       "3  Harbhajan Singh 101    \n",
       "4  RA Jadeja        86    \n",
       "5  YS Chahal        82    \n",
       "6  R Ashwin         76    \n",
       "7  PP Ojha          66    \n",
       "8  R Bhatia         61    \n",
       "9  AR Patel         59    \n",
       "10 Rashid Khan      59    "
      ]
     },
     "metadata": {},
     "output_type": "display_data"
    }
   ],
   "source": [
    "ball.mo.wks = deliveries %>% group_by(bowler) %>% \n",
    "  filter(over >= 6 & over <=14) %>% filter(is_wicket == 1) %>% \n",
    "  summarise(Wickets =n()) %>% arrange(desc(Wickets))\n",
    "\n",
    "ball.mo.wks = ball.mo.wks[1:10, ]\n",
    "\n",
    "ball.mo.wks"
   ]
  },
  {
   "cell_type": "code",
   "execution_count": 49,
   "id": "9c272310",
   "metadata": {},
   "outputs": [
    {
     "data": {
      "image/png": "[encoded data removed]",
      "text/plain": [
       "plot without title"
      ]
     },
     "metadata": {},
     "output_type": "display_data"
    }
   ],
   "source": [
    "ggplot(ball.mo.wks, aes(reorder(bowler,-Wickets), Wickets))+ theme_classic()+\n",
    "  geom_bar(stat = 'identity', fill = 'darkslategray4', col = 'black')+\n",
    "  geom_text(aes(label = Wickets, vjust = -0.5))+ \n",
    "  theme(legend.position = 'none', axis.text.x = element_text(size = 6.75)) + \n",
    "labs(title = 'Most Wickets Taken in Middle Overs(7-15)',\n",
    "       x ='Bowlers', tag = 'B10')"
   ]
  },
  {
   "cell_type": "code",
   "execution_count": null,
   "id": "89501819",
   "metadata": {},
   "outputs": [],
   "source": []
  }
 ],
 "metadata": {
  "kernelspec": {
   "display_name": "R",
   "language": "R",
   "name": "ir"
  },
  "language_info": {
   "codemirror_mode": "r",
   "file_extension": ".r",
   "mimetype": "text/x-r-source",
   "name": "R",
   "pygments_lexer": "r",
   "version": "3.6.1"
  }
 },
 "nbformat": 4,
 "nbformat_minor": 5
}
